{
 "cells": [
  {
   "attachments": {},
   "cell_type": "markdown",
   "metadata": {},
   "source": [
    "##                                            Ai_Trainer_Project"
   ]
  },
  {
   "attachments": {},
   "cell_type": "markdown",
   "metadata": {},
   "source": [
    "This is a Python script that demonstrates the use of computer vision to monitor a user's workout form during a dumbbell curl exercise. The code uses the OpenCV library and a custom pose estimation module to track the user's arm movement and calculate the angle of their elbow joint. Based on this angle, the code determines whether the user is performing the exercise correctly or not, and displays a progress bar and a counter on the screen accordingly. The script can be adapted for real-time monitoring during a workout session or for analysis of pre-recorded videos."
   ]
  },
  {
   "cell_type": "code",
   "execution_count": null,
   "metadata": {},
   "outputs": [],
   "source": [
    "import cv2\n",
    "import numpy as np \n",
    "import time\n",
    "import poseEstimationModule as htm\n",
    "\n",
    "count = 0 \n",
    "dir = 0\n",
    "# ptime = 0\n",
    "\n",
    "detector = htm.poseDetector() \n",
    "cap =  cv2.VideoCapture('D:\\opencv\\main\\AI_trainer/Videos/trainer.mp4')\n",
    "while True:\n",
    "    success, img = cap.read()\n",
    "    img = detector.findPos(img)\n",
    "    lmlist = detector.findPosition(img, False)\n",
    "    # print(lmlist) \n",
    "    if len(lmlist) !=0:\n",
    "        # # right arm\n",
    "        # detector.findAngle(img, 12, 14, 16)\n",
    "        # left arm\n",
    "        angle = detector.findAngle(img, 11,13, 15)\n",
    "        per = np.interp(angle,(200, 330),(0,100))\n",
    "        bar = np.interp(angle,(210, 330), (650, 100))\n",
    "\n",
    "        # check for the dumbell curls\n",
    "        color = (255, 0, 255)\n",
    "        if per == 100:\n",
    "            color = (0, 255, 0)\n",
    "            if dir == 0:\n",
    "                count += 0.5\n",
    "                dir = 1\n",
    "\n",
    "        if per == 0:\n",
    "            color = (0, 255, 0)\n",
    "            if dir==1:\n",
    "                count+=0.5\n",
    "                dir = 0\n",
    "\n",
    "        print(count)\n",
    "\n",
    "        # for bar\n",
    "        cv2.rectangle(img,(1100, 100), (1175, 650), color, 3)\n",
    "        cv2.rectangle(img,(1100, int(bar)), (1175, 650), color, cv2.FILLED)\n",
    "        cv2.putText(img, f'{(int(per))}%', (1100, 75), cv2.FONT_HERSHEY_PLAIN,4,color,4)\n",
    "\n",
    "\n",
    "        \n",
    "        cv2.rectangle(img,(0, 450), (400, 820), (0, 255, 0), cv2.FILLED)\n",
    "        cv2.putText(img, str(int(count)), (100, 700), cv2.FONT_HERSHEY_PLAIN,15,(255,0,0),25)\n",
    "    \n",
    "\n",
    "        \n",
    "        # print(angle, per)\n",
    "    # ctime = time.time()\n",
    "    # fps = 1/(ctime-ptime)\n",
    "    # ptime = ctime\n",
    "    # cv2.putText(img, f'fps:{int(fps)}', (100, 300),cv2.FONT_HERSHEY_PLAIN,10,(255,0,0),8)\n",
    "    img = cv2.resize(img, (1280, 720),fx=0, fy=0, interpolation = cv2.INTER_CUBIC)\n",
    "    cv2.imshow('image', img)\n",
    "    cv2.waitKey(1)\n"
   ]
  }
 ],
 "metadata": {
  "kernelspec": {
   "display_name": ".venv",
   "language": "python",
   "name": "python3"
  },
  "language_info": {
   "name": "python",
   "version": "3.8.8"
  },
  "orig_nbformat": 4,
  "vscode": {
   "interpreter": {
    "hash": "9549edd590dad2e47b68bb89a9110a6a20f987ff2529a71a9123232dd873c47e"
   }
  }
 },
 "nbformat": 4,
 "nbformat_minor": 2
}
